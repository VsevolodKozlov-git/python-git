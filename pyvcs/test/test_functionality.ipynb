{
 "cells": [
  {
   "cell_type": "code",
   "execution_count": 1,
   "outputs": [],
   "source": [
    "import os\n",
    "import pathlib\n",
    "import typing as tp"
   ],
   "metadata": {
    "collapsed": false,
    "pycharm": {
     "name": "#%%\n"
    }
   }
  },
  {
   "cell_type": "code",
   "execution_count": 4,
   "outputs": [
    {
     "name": "stdout",
     "output_type": "stream",
     "text": [
      "hello world\n"
     ]
    }
   ],
   "source": [
    "print('hello world')\n",
    "tree_content = b'40000 alphabeta\\x00y&\\xbfIM\\xcd\\xb8\"a\\xe1\\xca\\x111\\x16a\\x0f\\x8d\\x05G\\x0b40000 numbers\\x002\\xad6A\\xa7s\\xce4\\x81m\\xec\\xe1\\xcec\\xcc$\\xc8\\xa5\\x14\\xd0100644 quote.txt\\x00~wL\\xf53\\xc5\\x18\\x03\\x12]FY\\xf3H\\x8b\\xd9\\xdf\\xfcA\\xa6'"
   ],
   "metadata": {
    "collapsed": false,
    "pycharm": {
     "name": "#%%\n"
    }
   }
  },
  {
   "cell_type": "code",
   "execution_count": 17,
   "outputs": [],
   "source": [
    "def read_tree(data: bytes):\n",
    "    shas_enc, data_without_sha_enc = pop_sha(data)\n",
    "    shas = list(map(lambda x: x.hex(), shas_enc))\n",
    "    data_without_sha = data_without_sha_enc.decode()\n",
    "    sep_data_raw = data_without_sha.split(' ')\n",
    "    sep_data = list(filter(lambda x : x != '', sep_data_raw))\n",
    "    \n",
    "    permissions_raw = sep_data[::2]\n",
    "    permissions = list(map(lambda x: '0'*(6-len(x)) + x, permissions_raw))\n",
    "\n",
    "    names = sep_data[1::2]\n",
    "    return [permissions, shas, names]\n",
    "\n",
    "\n",
    "def pop_sha(data):\n",
    "    shas = []\n",
    "    zero_byte = data.find(b'\\0')\n",
    "    while zero_byte != -1:\n",
    "        shas.append(data[zero_byte + 1:zero_byte + 21])\n",
    "        data = data[:zero_byte] + b' ' + data[zero_byte + 21:]\n",
    "        zero_byte = data.find(b'\\0', zero_byte + 1)\n",
    "\n",
    "    return shas, data\n"
   ],
   "metadata": {
    "collapsed": false,
    "pycharm": {
     "name": "#%%"
    }
   }
  },
  {
   "cell_type": "code",
   "execution_count": 18,
   "outputs": [
    {
     "data": {
      "text/plain": "[['040000', '040000', '100644'],\n ['7926bf494dcdb82261e1ca113116610f8d05470b',\n  '32ad3641a773ce34816dece1ce63cc24c8a514d0',\n  '7e774cf533c51803125d4659f3488bd9dffc41a6'],\n ['alphabeta', 'numbers', 'quote.txt']]"
     },
     "execution_count": 18,
     "metadata": {},
     "output_type": "execute_result"
    }
   ],
   "source": [
    "read_tree(tree_content)"
   ],
   "metadata": {
    "collapsed": false,
    "pycharm": {
     "name": "#%%\n"
    }
   }
  },
  {
   "cell_type": "code",
   "execution_count": 19,
   "outputs": [
    {
     "name": "stdout",
     "output_type": "stream",
     "text": [
      "['40000', 'alphabeta', '40000', 'numbers', '100644', 'quote.txt', '']\n"
     ]
    }
   ],
   "source": [
    "popes = pop_sha(tree_content)[1].decode()\n",
    "print(popes.split(' '))"
   ],
   "metadata": {
    "collapsed": false,
    "pycharm": {
     "name": "#%%\n"
    }
   }
  },
  {
   "cell_type": "code",
   "execution_count": null,
   "outputs": [],
   "source": [],
   "metadata": {
    "collapsed": false,
    "pycharm": {
     "name": "#%%\n"
    }
   }
  }
 ],
 "metadata": {
  "kernelspec": {
   "display_name": "Python 3",
   "language": "python",
   "name": "python3"
  },
  "language_info": {
   "codemirror_mode": {
    "name": "ipython",
    "version": 2
   },
   "file_extension": ".py",
   "mimetype": "text/x-python",
   "name": "python",
   "nbconvert_exporter": "python",
   "pygments_lexer": "ipython2",
   "version": "2.7.6"
  }
 },
 "nbformat": 4,
 "nbformat_minor": 0
}